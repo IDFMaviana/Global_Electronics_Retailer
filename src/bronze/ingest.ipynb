{
 "cells": [
  {
   "cell_type": "code",
   "execution_count": 0,
   "metadata": {
    "application/vnd.databricks.v1+cell": {
     "cellMetadata": {},
     "inputWidgets": {},
     "nuid": "c9d694e0-49ff-4668-82d1-1b04fe3cb2ff",
     "showTitle": false,
     "tableResultSettingsMap": {},
     "title": ""
    }
   },
   "outputs": [],
   "source": [
    "import sys\n",
    "sys.path.insert(0,\"/Workspace/Repos/git/Global_Electronics_Retailer/src/lib/\")\n",
    "import ingestors\n",
    "\n",
    "config_csv = dbutils.widgets.get(\"config_csv\")\n",
    "\n",
    "ingestors.importfromcsv(config_csv)\n",
    "\n",
    "config_raw = dbutils.widgets.get(\"config_raw\")\n",
    "\n",
    "ingestors.importfromcsv(config_raw)"
   ]
  }
 ],
 "metadata": {
  "application/vnd.databricks.v1+notebook": {
   "computePreferences": null,
   "dashboards": [],
   "environmentMetadata": {
    "base_environment": "",
    "environment_version": "2"
   },
   "language": "python",
   "notebookMetadata": {
    "pythonIndentUnit": 4
   },
   "notebookName": "ingest",
   "widgets": {}
  },
  "language_info": {
   "name": "python"
  }
 },
 "nbformat": 4,
 "nbformat_minor": 0
}
