{
 "cells": [
  {
   "cell_type": "code",
   "execution_count": 0,
   "metadata": {
    "application/vnd.databricks.v1+cell": {
     "cellMetadata": {
      "byteLimit": 2048000,
      "implicitDf": true,
      "rowLimit": 10000
     },
     "inputWidgets": {},
     "nuid": "2a7bf82c-b4ff-48ce-8eaf-0df5cdbcaa37",
     "showTitle": false,
     "tableResultSettingsMap": {},
     "title": ""
    }
   },
   "outputs": [],
   "source": [
    "files = dbutils.fs.ls(\"/Volumes/data_source/data_csv/tables_csv/\")\n",
    "for file in files:\n",
    "    file_name = file.name.replace(\".csv\",\"\")\n",
    "    #carrega o arquivo no formato parquet\n",
    "    df = spark.read.format(\"parquet\").load(f\"/Volumes/raw/vendas/{file_name}\")\n",
    "    #Salva o arquivo no formato delta na camada bronze\n",
    "    df.write.format(\"delta\").saveAsTable(f\"bronze.vendas.{file_name}\")"
   ]
  }
 ],
 "metadata": {
  "application/vnd.databricks.v1+notebook": {
   "computePreferences": null,
   "dashboards": [],
   "environmentMetadata": {
    "base_environment": "",
    "environment_version": "2"
   },
   "language": "python",
   "notebookMetadata": {
    "mostRecentlyExecutedCommandWithImplicitDF": {
     "commandId": -1,
     "dataframes": [
      "_sqldf"
     ]
    },
    "pythonIndentUnit": 4
   },
   "notebookName": "Ingestão_full",
   "widgets": {}
  },
  "language_info": {
   "name": "python"
  }
 },
 "nbformat": 4,
 "nbformat_minor": 0
}
