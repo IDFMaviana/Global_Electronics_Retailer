{
 "cells": [
  {
   "cell_type": "code",
   "execution_count": 0,
   "metadata": {
    "application/vnd.databricks.v1+cell": {
     "cellMetadata": {
      "byteLimit": 2048000,
      "implicitDf": true,
      "rowLimit": 10000
     },
     "inputWidgets": {},
     "nuid": "2a7bf82c-b4ff-48ce-8eaf-0df5cdbcaa37",
     "showTitle": false,
     "tableResultSettingsMap": {},
     "title": ""
    }
   },
   "outputs": [],
   "source": [
    "import sys\n",
    "sys.path.insert(0,\"/Workspace/Repos/git/Global_Electronics_Retailer/src/lib/\")\n",
    "import ingestors\n",
    "import json\n",
    "\n",
    "config_csv_str = dbutils.widgets(\"config_csv\")\n",
    "config_csv = json.loads(config_csv_str)\n",
    "\n",
    "config_raw_str = dbutils.widgets(\"config_raw\")\n",
    "config_csv = json.loads(config_raw_str)\n",
    "\n",
    "#csv\n",
    "ingestors.importfromcsv(config_csv)\n",
    "#raw\n",
    "ingestors.importfromcsv(config_raw)"
   ]
  },
  {
   "cell_type": "code",
   "execution_count": 0,
   "metadata": {
    "application/vnd.databricks.v1+cell": {
     "cellMetadata": {
      "byteLimit": 2048000,
      "rowLimit": 10000
     },
     "inputWidgets": {},
     "nuid": "73217b7d-7262-4f15-8621-69872e844539",
     "showTitle": true,
     "tableResultSettingsMap": {},
     "title": "Importa dados da origem CSV para camada Raw"
    }
   },
   "outputs": [],
   "source": []
  },
  {
   "cell_type": "code",
   "execution_count": 0,
   "metadata": {
    "application/vnd.databricks.v1+cell": {
     "cellMetadata": {},
     "inputWidgets": {},
     "nuid": "f06652e8-b044-4454-96be-6127a98f66b6",
     "showTitle": true,
     "tableResultSettingsMap": {},
     "title": "Carrega dados para camada bronze"
    }
   },
   "outputs": [],
   "source": []
  }
 ],
 "metadata": {
  "application/vnd.databricks.v1+notebook": {
   "computePreferences": null,
   "dashboards": [],
   "environmentMetadata": {
    "base_environment": "",
    "environment_version": "2"
   },
   "language": "python",
   "notebookMetadata": {
    "mostRecentlyExecutedCommandWithImplicitDF": {
     "commandId": -1,
     "dataframes": [
      "_sqldf"
     ]
    },
    "pythonIndentUnit": 4
   },
   "notebookName": "Ingestao",
   "widgets": {}
  },
  "language_info": {
   "name": "python"
  }
 },
 "nbformat": 4,
 "nbformat_minor": 0
}
