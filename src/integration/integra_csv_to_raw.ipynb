{
 "cells": [
  {
   "cell_type": "code",
   "execution_count": 0,
   "metadata": {
    "application/vnd.databricks.v1+cell": {
     "cellMetadata": {
      "byteLimit": 2048000,
      "rowLimit": 10000
     },
     "inputWidgets": {},
     "nuid": "f8401247-eb94-409f-8791-182023fb97fd",
     "showTitle": false,
     "tableResultSettingsMap": {},
     "title": ""
    }
   },
   "outputs": [],
   "source": [
    "import re\n",
    "#Define o nivel de log do spark\n",
    "spark.sparkContext.setLogLevel(\"ERROR\")\n",
    "#Define o diretorio de origem dos dados\n",
    "volume = \"/Volumes/data_source/data_csv/tables_csv/\"\n",
    "files = dbutils.fs.ls(volume)\n",
    "#função para limpar caracteres especiais do nome das colunas\n",
    "def limpa_caracteres(col):\n",
    "    return re.sub(r'[:;,\\{\\}\\(\\)\\n\\t=\\s]', '_', col)\n",
    "#Itera sob os arquivos e os salva na camada raw\n",
    "for file in files:\n",
    "    #recupera apenas o nome do arquivo\n",
    "    nm_arquivo = file.name\n",
    "    #le o arquivo em csv\n",
    "    df = spark.read.format(\"csv\").load(f\"/Volumes/data_source/data_csv/tables_csv/{nm_arquivo}\",header=True)\n",
    "    #Armazena o nome das colunas ema lista\n",
    "    nm_nova_colunas = [limpa_caracteres(col) for col in df.columns]\n",
    "    #renomeia as colunas no dataframe\n",
    "    df_colunas = df.toDF(*nm_nova_colunas)\n",
    "    #Remove a extenção .csv para salvar no diretorio\n",
    "    nm_arquivo = nm_arquivo.replace(\".csv\",\"\")\n",
    "    #Salva o arquivo na camada raw\n",
    "    df_colunas.coalesce(1).write.format(\"parquet\").mode(\"overwrite\").save(f\"/Volumes/raw/vendas/{nm_arquivo}\")\n"
   ]
  },
  {
   "cell_type": "code",
   "execution_count": 0,
   "metadata": {
    "application/vnd.databricks.v1+cell": {
     "cellMetadata": {
      "byteLimit": 2048000,
      "rowLimit": 10000
     },
     "inputWidgets": {},
     "nuid": "e5a474a2-b949-4709-a6d4-da2c98e332c9",
     "showTitle": false,
     "tableResultSettingsMap": {},
     "title": ""
    }
   },
   "outputs": [],
   "source": [
    "#Itera sob os arquivos e os salva na camada raw\n",
    "for file in files:\n",
    "    nm_arquivo = file.name.replace(\".csv\",\"\")\n",
    "    #Remove arquivos de log do spark dos destinos\n",
    "    caminho_destino = f\"/Volumes/raw/vendas/{nm_arquivo}/\"\n",
    "    arquivos_temp = dbutils.fs.ls(caminho_destino)\n",
    "    # Filtrar e excluir arquivos que começam com _started_ ou _committed_\n",
    "    for arquivo in arquivos_temp:\n",
    "        if arquivo.name.startswith(\"_started_\") or arquivo.name.startswith(\"_committed_\") or arquivo.name.startswith(\"_SUCCESS\"):\n",
    "            dbutils.fs.rm(arquivo.path)"
   ]
  }
 ],
 "metadata": {
  "application/vnd.databricks.v1+notebook": {
   "computePreferences": null,
   "dashboards": [],
   "environmentMetadata": {
    "base_environment": "",
    "environment_version": "2"
   },
   "language": "python",
   "notebookMetadata": {
    "mostRecentlyExecutedCommandWithImplicitDF": {
     "commandId": 4327277038016554,
     "dataframes": [
      "_sqldf"
     ]
    },
    "pythonIndentUnit": 4
   },
   "notebookName": "integra_csv_to_raw",
   "widgets": {}
  },
  "language_info": {
   "name": "python"
  }
 },
 "nbformat": 4,
 "nbformat_minor": 0
}
